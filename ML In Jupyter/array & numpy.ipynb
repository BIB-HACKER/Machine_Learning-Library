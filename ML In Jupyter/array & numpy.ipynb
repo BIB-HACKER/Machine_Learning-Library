{
 "cells": [
  {
   "cell_type": "code",
   "execution_count": 11,
   "id": "30384274",
   "metadata": {},
   "outputs": [],
   "source": [
    "import numpy as np"
   ]
  },
  {
   "cell_type": "code",
   "execution_count": 12,
   "id": "28f27246",
   "metadata": {},
   "outputs": [
    {
     "name": "stdout",
     "output_type": "stream",
     "text": [
      "[ 0  1  2  3  4  5  6  7  8  9 10 11]\n"
     ]
    }
   ],
   "source": [
    "n1=np.arange(12)\n",
    "print(n1)"
   ]
  },
  {
   "cell_type": "code",
   "execution_count": 14,
   "id": "f9d3c235",
   "metadata": {},
   "outputs": [
    {
     "name": "stdout",
     "output_type": "stream",
     "text": [
      "data type of n1: <class 'numpy.ndarray'>\n"
     ]
    }
   ],
   "source": [
    "print(\"data type of n1:\",type(n1))"
   ]
  },
  {
   "cell_type": "code",
   "execution_count": 15,
   "id": "0272182d",
   "metadata": {},
   "outputs": [
    {
     "name": "stdout",
     "output_type": "stream",
     "text": [
      "dimension of n1: 1\n"
     ]
    }
   ],
   "source": [
    "print(\"dimension of n1:\",n1.ndim)"
   ]
  },
  {
   "cell_type": "code",
   "execution_count": 16,
   "id": "351441b6",
   "metadata": {},
   "outputs": [
    {
     "name": "stdout",
     "output_type": "stream",
     "text": [
      "shape of n1: (12,)\n"
     ]
    }
   ],
   "source": [
    "print(\"shape of n1:\",n1.shape)"
   ]
  },
  {
   "cell_type": "code",
   "execution_count": 17,
   "id": "49bc1ab6",
   "metadata": {},
   "outputs": [
    {
     "name": "stdout",
     "output_type": "stream",
     "text": [
      "data type of each element: int32\n"
     ]
    }
   ],
   "source": [
    "print(\"data type of each element:\",n1.dtype)"
   ]
  },
  {
   "cell_type": "code",
   "execution_count": 18,
   "id": "4acd5436",
   "metadata": {},
   "outputs": [
    {
     "name": "stdout",
     "output_type": "stream",
     "text": [
      "[ 0  1  2  3  4  5  6  7  8  9 10 11]\n"
     ]
    }
   ],
   "source": [
    "n1.reshape(3,4)\n",
    "print(n1)"
   ]
  },
  {
   "cell_type": "code",
   "execution_count": 19,
   "id": "56bc1119",
   "metadata": {},
   "outputs": [
    {
     "name": "stdout",
     "output_type": "stream",
     "text": [
      "[[ 0  1  2  3]\n",
      " [ 4  5  6  7]\n",
      " [ 8  9 10 11]]\n"
     ]
    }
   ],
   "source": [
    "n2=n1.reshape(3,4)\n",
    "print(n2)"
   ]
  },
  {
   "cell_type": "code",
   "execution_count": 20,
   "id": "ca8b1b5c",
   "metadata": {},
   "outputs": [
    {
     "name": "stdout",
     "output_type": "stream",
     "text": [
      "data type of n2: <class 'numpy.ndarray'>\n"
     ]
    }
   ],
   "source": [
    "print(\"data type of n2:\",type(n2))"
   ]
  },
  {
   "cell_type": "code",
   "execution_count": 21,
   "id": "75674fbe",
   "metadata": {},
   "outputs": [
    {
     "name": "stdout",
     "output_type": "stream",
     "text": [
      "dimension: 2\n"
     ]
    }
   ],
   "source": [
    "print(\"dimension:\",n2.ndim)"
   ]
  },
  {
   "cell_type": "code",
   "execution_count": 22,
   "id": "3459477d",
   "metadata": {},
   "outputs": [
    {
     "name": "stdout",
     "output_type": "stream",
     "text": [
      "shape: (3, 4)\n"
     ]
    }
   ],
   "source": [
    "print(\"shape:\",n2.shape)"
   ]
  },
  {
   "cell_type": "code",
   "execution_count": 23,
   "id": "02d29b0e",
   "metadata": {},
   "outputs": [
    {
     "name": "stdout",
     "output_type": "stream",
     "text": [
      "data type of each element: int32\n"
     ]
    }
   ],
   "source": [
    "print(\"data type of each element:\",n2.dtype)"
   ]
  },
  {
   "cell_type": "code",
   "execution_count": 39,
   "id": "6fc21b90",
   "metadata": {},
   "outputs": [
    {
     "name": "stdout",
     "output_type": "stream",
     "text": [
      "array('i', [1, 4, 9, 16])\n"
     ]
    }
   ],
   "source": [
    "B=array.array('i',[1,4,9,16])\n",
    "print(B)"
   ]
  },
  {
   "cell_type": "code",
   "execution_count": 32,
   "id": "b6b49a08",
   "metadata": {},
   "outputs": [],
   "source": [
    "import array"
   ]
  },
  {
   "cell_type": "code",
   "execution_count": 36,
   "id": "93b60788",
   "metadata": {},
   "outputs": [
    {
     "name": "stdout",
     "output_type": "stream",
     "text": [
      "array('i', [1, 2, 4, 9, 16, 25])\n"
     ]
    }
   ],
   "source": [
    "a=array.array('i',[1,2,4,9,16,25])\n",
    "print(a)"
   ]
  },
  {
   "cell_type": "code",
   "execution_count": 37,
   "id": "cee9929f",
   "metadata": {},
   "outputs": [
    {
     "name": "stdout",
     "output_type": "stream",
     "text": [
      "data type of: <class 'array.array'>\n"
     ]
    }
   ],
   "source": [
    "print(\"data type of:\",type(a))"
   ]
  },
  {
   "cell_type": "code",
   "execution_count": null,
   "id": "316aaa2b",
   "metadata": {},
   "outputs": [],
   "source": []
  }
 ],
 "metadata": {
  "kernelspec": {
   "display_name": "Python 3 (ipykernel)",
   "language": "python",
   "name": "python3"
  },
  "language_info": {
   "codemirror_mode": {
    "name": "ipython",
    "version": 3
   },
   "file_extension": ".py",
   "mimetype": "text/x-python",
   "name": "python",
   "nbconvert_exporter": "python",
   "pygments_lexer": "ipython3",
   "version": "3.10.2"
  }
 },
 "nbformat": 4,
 "nbformat_minor": 5
}
