{
 "cells": [
  {
   "cell_type": "code",
   "execution_count": 1,
   "id": "aae46fd9",
   "metadata": {},
   "outputs": [],
   "source": [
    "import pandas as pd"
   ]
  },
  {
   "cell_type": "code",
   "execution_count": 2,
   "id": "c5575275",
   "metadata": {},
   "outputs": [],
   "source": [
    "students={\n",
    "    \"names\":[\"Baban\",\"Raj\",\"Bibhakar\"],\n",
    "    \"physic\":[88,99,87],\n",
    "    \"chem\":[78,95,89]\n",
    "}"
   ]
  },
  {
   "cell_type": "code",
   "execution_count": 4,
   "id": "c338a0a5",
   "metadata": {},
   "outputs": [
    {
     "name": "stdout",
     "output_type": "stream",
     "text": [
      "names     [Baban, Raj, Bibhakar]\n",
      "physic              [88, 99, 87]\n",
      "chem                [78, 95, 89]\n",
      "dtype: object\n"
     ]
    }
   ],
   "source": [
    "s1=pd.Series(students)\n",
    "print(s1)"
   ]
  },
  {
   "cell_type": "code",
   "execution_count": 5,
   "id": "e9df505c",
   "metadata": {},
   "outputs": [
    {
     "name": "stdout",
     "output_type": "stream",
     "text": [
      "################################\n",
      "      names  physic  chem\n",
      "0     Baban      88    78\n",
      "1       Raj      99    95\n",
      "2  Bibhakar      87    89\n"
     ]
    }
   ],
   "source": [
    "print(\"################################\")\n",
    "d1=pd.DataFrame(students)\n",
    "print(d1)"
   ]
  },
  {
   "cell_type": "code",
   "execution_count": 6,
   "id": "84513cbc",
   "metadata": {},
   "outputs": [
    {
     "name": "stdout",
     "output_type": "stream",
     "text": [
      "          physic  chem\n",
      "names                 \n",
      "Baban         88    78\n",
      "Raj           99    95\n",
      "Bibhakar      87    89\n"
     ]
    }
   ],
   "source": [
    "d2=d1.set_index(\"names\")\n",
    "print(d2)"
   ]
  },
  {
   "cell_type": "code",
   "execution_count": 7,
   "id": "ca8005eb",
   "metadata": {},
   "outputs": [
    {
     "name": "stdout",
     "output_type": "stream",
     "text": [
      "################################\n",
      "names\n",
      "Baban       166\n",
      "Raj         194\n",
      "Bibhakar    176\n",
      "dtype: int64\n"
     ]
    }
   ],
   "source": [
    "print(\"################################\")\n",
    "d3=d2.sum(axis=1)\n",
    "print(d3)"
   ]
  },
  {
   "cell_type": "code",
   "execution_count": null,
   "id": "e8befb72",
   "metadata": {},
   "outputs": [],
   "source": []
  }
 ],
 "metadata": {
  "kernelspec": {
   "display_name": "Python 3 (ipykernel)",
   "language": "python",
   "name": "python3"
  },
  "language_info": {
   "codemirror_mode": {
    "name": "ipython",
    "version": 3
   },
   "file_extension": ".py",
   "mimetype": "text/x-python",
   "name": "python",
   "nbconvert_exporter": "python",
   "pygments_lexer": "ipython3",
   "version": "3.10.2"
  }
 },
 "nbformat": 4,
 "nbformat_minor": 5
}
