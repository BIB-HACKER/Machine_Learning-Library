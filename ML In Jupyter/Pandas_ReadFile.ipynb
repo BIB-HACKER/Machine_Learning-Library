{
 "cells": [
  {
   "cell_type": "code",
   "execution_count": 2,
   "id": "03217b1f",
   "metadata": {},
   "outputs": [],
   "source": [
    "import pandas as pd"
   ]
  },
  {
   "cell_type": "code",
   "execution_count": 4,
   "id": "5092f514",
   "metadata": {},
   "outputs": [
    {
     "name": "stdout",
     "output_type": "stream",
     "text": [
      "   roll  name    age\n",
      "0     1     1   2.92\n",
      "1     1     2  70.75\n",
      "2     1     3  60.90\n",
      "3     2     1  71.34\n",
      "4     2     2   5.23\n",
      "5     2     3  38.56\n",
      "6     3     1  61.24\n",
      "7     3     2  38.68\n",
      "8     3     3   4.49\n"
     ]
    }
   ],
   "source": [
    "df=pd.read_table('dist.txt',delim_whitespace=True,names=('roll','name','age'))\n",
    "print(df)"
   ]
  },
  {
   "cell_type": "code",
   "execution_count": 5,
   "id": "92d1e5fb",
   "metadata": {},
   "outputs": [
    {
     "name": "stdout",
     "output_type": "stream",
     "text": [
      "   roll names  age  phys  chem\n",
      "0     1   raj   21    88    89\n",
      "1     2  avik   22    87    90\n"
     ]
    }
   ],
   "source": [
    "d=pd.read_csv(\"student_data.csv\")\n",
    "print(d)"
   ]
  },
  {
   "cell_type": "code",
   "execution_count": 6,
   "id": "a5cb3743",
   "metadata": {},
   "outputs": [
    {
     "name": "stdout",
     "output_type": "stream",
     "text": [
      "   a  b      c\n",
      "0  1  1   2.92\n",
      "1  1  2  70.75\n",
      "2  1  3  60.90\n",
      "3  2  1  71.34\n",
      "4  2  2   5.23\n",
      "5  2  3  38.56\n",
      "6  3  1  61.24\n",
      "7  3  2  38.68\n",
      "8  3  3   4.49\n"
     ]
    }
   ],
   "source": [
    "data=pd.read_csv('dist.txt',delimiter='\\s+',header=None,index_col=False)\n",
    "data.columns=[\"a\",\"b\",\"c\"]\n",
    "print(data)"
   ]
  },
  {
   "cell_type": "code",
   "execution_count": 7,
   "id": "39201a56",
   "metadata": {},
   "outputs": [],
   "source": [
    "pp=pd.read_csv(\"Income_data.csv\")"
   ]
  },
  {
   "cell_type": "code",
   "execution_count": 12,
   "id": "bd5a0373",
   "metadata": {},
   "outputs": [
    {
     "name": "stdout",
     "output_type": "stream",
     "text": [
      "       GEOID       State   2005   2006   2007   2008   2009   2010   2011  \\\n",
      "0  04000US01     Alabama  37150  37952  42212  44476  39980  40933  42590   \n",
      "1  04000US02      Alaska  55891  56418  62993  63989  61604  57848  57431   \n",
      "2  04000US04     Arizona  45245  46657  47215  46914  45739  46896  48621   \n",
      "3  04000US05    Arkansas  36658  37057  40795  39586  36538  38587  41302   \n",
      "4  04000US06  California  51755  55319  55734  57014  56134  54283  53367   \n",
      "\n",
      "    2012   2013  \n",
      "0  43464  41381  \n",
      "1  63648  61137  \n",
      "2  47044  50602  \n",
      "3  39018  39919  \n",
      "4  57020  57528  \n"
     ]
    }
   ],
   "source": [
    "print(pp)"
   ]
  },
  {
   "cell_type": "code",
   "execution_count": 14,
   "id": "d02d9fef",
   "metadata": {},
   "outputs": [
    {
     "name": "stdout",
     "output_type": "stream",
     "text": [
      "                GEOID   2005   2006   2007   2008   2009   2010   2011   2012  \\\n",
      "State                                                                           \n",
      "Alabama     04000US01  37150  37952  42212  44476  39980  40933  42590  43464   \n",
      "Alaska      04000US02  55891  56418  62993  63989  61604  57848  57431  63648   \n",
      "Arizona     04000US04  45245  46657  47215  46914  45739  46896  48621  47044   \n",
      "Arkansas    04000US05  36658  37057  40795  39586  36538  38587  41302  39018   \n",
      "California  04000US06  51755  55319  55734  57014  56134  54283  53367  57020   \n",
      "\n",
      "             2013  \n",
      "State              \n",
      "Alabama     41381  \n",
      "Alaska      61137  \n",
      "Arizona     50602  \n",
      "Arkansas    39919  \n",
      "California  57528  \n"
     ]
    }
   ],
   "source": [
    "df1=pp.set_index(\"State\")\n",
    "print(df1)"
   ]
  },
  {
   "cell_type": "code",
   "execution_count": 15,
   "id": "6acb00c6",
   "metadata": {},
   "outputs": [
    {
     "name": "stdout",
     "output_type": "stream",
     "text": [
      "          2005   2006   2007   2008   2009\n",
      "State                                     \n",
      "Alabama  37150  37952  42212  44476  39980\n",
      "Alaska   55891  56418  62993  63989  61604\n",
      "Arizona  45245  46657  47215  46914  45739\n"
     ]
    }
   ],
   "source": [
    "df2=df1.loc[\"Alabama\":\"Arizona\",\"2005\":\"2009\"]\n",
    "print(df2)"
   ]
  },
  {
   "cell_type": "code",
   "execution_count": null,
   "id": "a0b38b08",
   "metadata": {},
   "outputs": [],
   "source": []
  }
 ],
 "metadata": {
  "kernelspec": {
   "display_name": "Python 3 (ipykernel)",
   "language": "python",
   "name": "python3"
  },
  "language_info": {
   "codemirror_mode": {
    "name": "ipython",
    "version": 3
   },
   "file_extension": ".py",
   "mimetype": "text/x-python",
   "name": "python",
   "nbconvert_exporter": "python",
   "pygments_lexer": "ipython3",
   "version": "3.10.2"
  }
 },
 "nbformat": 4,
 "nbformat_minor": 5
}
