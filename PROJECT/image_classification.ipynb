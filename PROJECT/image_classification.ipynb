{
 "cells": [
  {
   "cell_type": "code",
   "execution_count": 1,
   "id": "2b25e84a",
   "metadata": {},
   "outputs": [],
   "source": [
    "from tensorflow import keras \n",
    "from keras.models import Sequential\n",
    "from keras.layers import Convolution2D\n",
    "from keras.layers import MaxPooling2D\n",
    "from keras.layers import Flatten\n",
    "from keras.layers import Dense"
   ]
  },
  {
   "cell_type": "markdown",
   "id": "1dff8c07",
   "metadata": {},
   "source": [
    "## Initialising the CNN"
   ]
  },
  {
   "cell_type": "code",
   "execution_count": 2,
   "id": "e4f0b1fa",
   "metadata": {},
   "outputs": [],
   "source": [
    "classifier = Sequential()"
   ]
  },
  {
   "cell_type": "markdown",
   "id": "17306c9d",
   "metadata": {},
   "source": [
    "##  Step 1 - Convolution"
   ]
  },
  {
   "cell_type": "code",
   "execution_count": 3,
   "id": "fb8fff84",
   "metadata": {},
   "outputs": [],
   "source": [
    "classifier.add(Convolution2D(32, 3, 3, \n",
    "        input_shape = (64, 64, 3), activation = 'relu'))"
   ]
  },
  {
   "cell_type": "markdown",
   "id": "d531a8c9",
   "metadata": {},
   "source": [
    "## Step 2 - Pooling "
   ]
  },
  {
   "cell_type": "code",
   "execution_count": 4,
   "id": "5b30940d",
   "metadata": {},
   "outputs": [],
   "source": [
    "classifier.add(MaxPooling2D(pool_size = (2, 2)))"
   ]
  },
  {
   "cell_type": "markdown",
   "id": "57f2f758",
   "metadata": {},
   "source": [
    "## Adding a second convolutional layer "
   ]
  },
  {
   "cell_type": "code",
   "execution_count": 5,
   "id": "41b890dd",
   "metadata": {},
   "outputs": [],
   "source": [
    "classifier.add(Convolution2D(32, 3, 3, activation = 'relu'))\n",
    "classifier.add(MaxPooling2D(pool_size = (2, 2)))"
   ]
  },
  {
   "cell_type": "markdown",
   "id": "0ece3f29",
   "metadata": {},
   "source": [
    "## Step 3 - Flattening "
   ]
  },
  {
   "cell_type": "code",
   "execution_count": 6,
   "id": "f104629c",
   "metadata": {},
   "outputs": [],
   "source": [
    "classifier.add(Flatten())"
   ]
  },
  {
   "cell_type": "markdown",
   "id": "a287773e",
   "metadata": {},
   "source": [
    "## Step 4 - Full connection "
   ]
  },
  {
   "cell_type": "code",
   "execution_count": 7,
   "id": "355da318",
   "metadata": {},
   "outputs": [],
   "source": [
    "classifier.add(Dense(1, activation = 'relu'))\n",
    "classifier.add(Dense(1, activation = 'sigmoid'))"
   ]
  },
  {
   "cell_type": "markdown",
   "id": "51192551",
   "metadata": {},
   "source": [
    "## Compiling the CNN "
   ]
  },
  {
   "cell_type": "code",
   "execution_count": 8,
   "id": "3df65725",
   "metadata": {},
   "outputs": [],
   "source": [
    " classifier.compile(optimizer = 'adam', \n",
    "                   loss = 'binary_crossentropy',\n",
    "                   metrics = ['accuracy'])\n"
   ]
  },
  {
   "cell_type": "markdown",
   "id": "7fea53c3",
   "metadata": {},
   "source": [
    "# ####FITTING IMAGE TO CNN######"
   ]
  },
  {
   "cell_type": "code",
   "execution_count": 9,
   "id": "704c46c0",
   "metadata": {},
   "outputs": [],
   "source": [
    "from keras.preprocessing.image import ImageDataGenerator"
   ]
  },
  {
   "cell_type": "code",
   "execution_count": 10,
   "id": "f160c233",
   "metadata": {},
   "outputs": [
    {
     "name": "stdout",
     "output_type": "stream",
     "text": [
      "Found 1792 images belonging to 2 classes.\n",
      "Found 2000 images belonging to 2 classes.\n"
     ]
    },
    {
     "name": "stderr",
     "output_type": "stream",
     "text": [
      "C:\\Users\\P PAUL\\AppData\\Local\\Temp\\ipykernel_1292\\3375118931.py:19: UserWarning: `Model.fit_generator` is deprecated and will be removed in a future version. Please use `Model.fit`, which supports generators.\n",
      "  classifier.fit_generator(training_set,\n"
     ]
    },
    {
     "name": "stdout",
     "output_type": "stream",
     "text": [
      "Epoch 1/30\n",
      "56/56 [==============================] - 43s 661ms/step - loss: 0.6922 - accuracy: 0.5240 - val_loss: 0.6932 - val_accuracy: 0.5000\n",
      "Epoch 2/30\n",
      "56/56 [==============================] - 29s 527ms/step - loss: 0.6918 - accuracy: 0.5580 - val_loss: 0.6933 - val_accuracy: 0.5000\n",
      "Epoch 3/30\n",
      "56/56 [==============================] - 30s 531ms/step - loss: 0.6905 - accuracy: 0.5580 - val_loss: 0.6937 - val_accuracy: 0.5000\n",
      "Epoch 4/30\n",
      "56/56 [==============================] - 32s 570ms/step - loss: 0.6895 - accuracy: 0.5580 - val_loss: 0.6941 - val_accuracy: 0.5000\n",
      "Epoch 5/30\n",
      "56/56 [==============================] - 31s 549ms/step - loss: 0.6879 - accuracy: 0.5580 - val_loss: 0.6979 - val_accuracy: 0.5000\n",
      "Epoch 6/30\n",
      "56/56 [==============================] - 29s 528ms/step - loss: 0.6821 - accuracy: 0.5580 - val_loss: 0.6898 - val_accuracy: 0.5000\n",
      "Epoch 7/30\n",
      "56/56 [==============================] - 31s 556ms/step - loss: 0.6823 - accuracy: 0.5580 - val_loss: 0.6961 - val_accuracy: 0.5000\n",
      "Epoch 8/30\n",
      "56/56 [==============================] - 32s 566ms/step - loss: 0.6797 - accuracy: 0.5580 - val_loss: 0.6905 - val_accuracy: 0.5000\n",
      "Epoch 9/30\n",
      "56/56 [==============================] - 33s 589ms/step - loss: 0.6744 - accuracy: 0.5580 - val_loss: 0.6864 - val_accuracy: 0.5000\n",
      "Epoch 10/30\n",
      "56/56 [==============================] - 32s 568ms/step - loss: 0.6720 - accuracy: 0.5580 - val_loss: 0.6834 - val_accuracy: 0.5000\n",
      "Epoch 11/30\n",
      "56/56 [==============================] - 29s 527ms/step - loss: 0.6682 - accuracy: 0.5580 - val_loss: 0.6930 - val_accuracy: 0.5000\n",
      "Epoch 12/30\n",
      "56/56 [==============================] - 30s 529ms/step - loss: 0.6664 - accuracy: 0.5580 - val_loss: 0.7082 - val_accuracy: 0.5000\n",
      "Epoch 13/30\n",
      "56/56 [==============================] - 29s 522ms/step - loss: 0.6639 - accuracy: 0.5580 - val_loss: 0.6790 - val_accuracy: 0.5000\n",
      "Epoch 14/30\n",
      "56/56 [==============================] - 29s 517ms/step - loss: 0.6595 - accuracy: 0.5625 - val_loss: 0.6780 - val_accuracy: 0.5800\n",
      "Epoch 15/30\n",
      "56/56 [==============================] - 29s 518ms/step - loss: 0.6610 - accuracy: 0.6044 - val_loss: 0.6726 - val_accuracy: 0.5935\n",
      "Epoch 16/30\n",
      "56/56 [==============================] - 29s 516ms/step - loss: 0.6577 - accuracy: 0.6060 - val_loss: 0.6761 - val_accuracy: 0.5810\n",
      "Epoch 17/30\n",
      "56/56 [==============================] - 45s 809ms/step - loss: 0.6584 - accuracy: 0.6021 - val_loss: 0.6712 - val_accuracy: 0.5905\n",
      "Epoch 18/30\n",
      "56/56 [==============================] - 29s 517ms/step - loss: 0.6576 - accuracy: 0.6044 - val_loss: 0.6748 - val_accuracy: 0.5785\n",
      "Epoch 19/30\n",
      "56/56 [==============================] - 30s 536ms/step - loss: 0.6559 - accuracy: 0.6133 - val_loss: 0.6942 - val_accuracy: 0.5605\n",
      "Epoch 20/30\n",
      "56/56 [==============================] - 30s 532ms/step - loss: 0.6570 - accuracy: 0.6094 - val_loss: 0.7085 - val_accuracy: 0.5385\n",
      "Epoch 21/30\n",
      "56/56 [==============================] - 29s 518ms/step - loss: 0.6521 - accuracy: 0.6127 - val_loss: 0.7151 - val_accuracy: 0.5400\n",
      "Epoch 22/30\n",
      "56/56 [==============================] - 29s 524ms/step - loss: 0.6415 - accuracy: 0.6200 - val_loss: 0.6780 - val_accuracy: 0.5840\n",
      "Epoch 23/30\n",
      "56/56 [==============================] - 29s 518ms/step - loss: 0.6485 - accuracy: 0.6239 - val_loss: 0.6826 - val_accuracy: 0.5775\n",
      "Epoch 24/30\n",
      "56/56 [==============================] - 29s 517ms/step - loss: 0.6448 - accuracy: 0.6244 - val_loss: 0.6624 - val_accuracy: 0.6110\n",
      "Epoch 25/30\n",
      "56/56 [==============================] - 30s 547ms/step - loss: 0.6412 - accuracy: 0.6244 - val_loss: 0.6621 - val_accuracy: 0.6180\n",
      "Epoch 26/30\n",
      "56/56 [==============================] - 29s 521ms/step - loss: 0.6396 - accuracy: 0.6317 - val_loss: 0.6949 - val_accuracy: 0.5720\n",
      "Epoch 27/30\n",
      "56/56 [==============================] - 29s 517ms/step - loss: 0.6315 - accuracy: 0.6484 - val_loss: 0.6588 - val_accuracy: 0.6215\n",
      "Epoch 28/30\n",
      "56/56 [==============================] - 29s 522ms/step - loss: 0.6303 - accuracy: 0.6456 - val_loss: 0.6637 - val_accuracy: 0.6085\n",
      "Epoch 29/30\n",
      "56/56 [==============================] - 29s 517ms/step - loss: 0.6316 - accuracy: 0.6429 - val_loss: 0.6754 - val_accuracy: 0.5870\n",
      "Epoch 30/30\n",
      "56/56 [==============================] - 29s 524ms/step - loss: 0.6356 - accuracy: 0.6289 - val_loss: 0.6486 - val_accuracy: 0.6455\n",
      "{0: 'cats', 1: 'dogs'}\n"
     ]
    }
   ],
   "source": [
    "train_datagen = ImageDataGenerator(rescale = 1./255,\n",
    "                                   shear_range = 0.2,\n",
    "                                   zoom_range = 0.2,\n",
    "                                   horizontal_flip = True)\n",
    " \n",
    "test_datagen = ImageDataGenerator(rescale = 1./255)\n",
    "\n",
    "\n",
    "training_set = train_datagen.flow_from_directory('dataset/training_set',\n",
    "                                                 target_size = (64, 64),\n",
    "                                                 batch_size = 32,\n",
    "                                                 class_mode = 'binary')\n",
    " \n",
    "test_set = test_datagen.flow_from_directory('dataset/test_set',\n",
    "                                            target_size = (64, 64),\n",
    "                                            batch_size = 32,\n",
    "                                            class_mode = 'binary')\n",
    "\n",
    "classifier.fit_generator(training_set,\n",
    "                         steps_per_epoch = (1792/32),\n",
    "                         epochs = 30,\n",
    "                         validation_data = test_set,\n",
    "                         validation_steps = (2000/32))\n",
    "\n",
    "\n",
    "class_labels = {v: k for k, v in training_set.class_indices.items()}\n",
    "print(class_labels) "
   ]
  },
  {
   "cell_type": "markdown",
   "id": "e00c5138",
   "metadata": {},
   "source": [
    "# #################Predicting the Image#####################"
   ]
  },
  {
   "cell_type": "code",
   "execution_count": 12,
   "id": "b13e51bd",
   "metadata": {},
   "outputs": [],
   "source": [
    "from skimage.io import imread\n",
    "from skimage.transform import resize\n",
    "import numpy as np"
   ]
  },
  {
   "cell_type": "code",
   "execution_count": 16,
   "id": "f9ebbdf4",
   "metadata": {},
   "outputs": [
    {
     "name": "stdout",
     "output_type": "stream",
     "text": [
      "1/1 [==============================] - 0s 166ms/step\n",
      "It is a dog\n"
     ]
    }
   ],
   "source": [
    "img = imread('pexels-photo-257540.jpeg') \n",
    "img = resize(img,(64,64)) \n",
    "img = np.expand_dims(img,axis=0) \n",
    "#prediction = classifier.predict_classes(img)\n",
    "prediction = (classifier.predict(img) > 0.5).astype(\"int32\")\n",
    "#print(prediction)\n",
    "if prediction[0][0]==1:\n",
    "    print(\"It is a dog\")\n",
    "elif prediction[0][0]==0:\n",
    "    print(\"It is a cat\")\n",
    "else:\n",
    "    print(\"It's other object\")"
   ]
  },
  {
   "cell_type": "markdown",
   "id": "728e0ec1",
   "metadata": {},
   "source": [
    "### ..........................................................................................................................................................................Create by"
   ]
  },
  {
   "cell_type": "raw",
   "id": "9f61730f",
   "metadata": {},
   "source": [
    "                                                                                                          \n",
    "                                                                                                            Bibhakar Paul\n",
    "                                                                                                            Gourav Das\n",
    "                                                                                                            Surajit Samanta\n",
    "                                                                                                            Prsenjit Saha\n",
    "                                                                                                            Biswajit Bhattachar                                                                                                            "
   ]
  }
 ],
 "metadata": {
  "kernelspec": {
   "display_name": "Python 3 (ipykernel)",
   "language": "python",
   "name": "python3"
  },
  "language_info": {
   "codemirror_mode": {
    "name": "ipython",
    "version": 3
   },
   "file_extension": ".py",
   "mimetype": "text/x-python",
   "name": "python",
   "nbconvert_exporter": "python",
   "pygments_lexer": "ipython3",
   "version": "3.11.2"
  }
 },
 "nbformat": 4,
 "nbformat_minor": 5
}
