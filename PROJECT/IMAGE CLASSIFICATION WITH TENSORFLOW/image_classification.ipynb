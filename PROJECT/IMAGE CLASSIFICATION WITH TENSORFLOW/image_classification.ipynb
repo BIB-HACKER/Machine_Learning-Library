{
 "cells": [
  {
   "cell_type": "code",
   "execution_count": 1,
   "id": "2b25e84a",
   "metadata": {},
   "outputs": [],
   "source": [
    "from tensorflow import keras \n",
    "from keras.models import Sequential\n",
    "from keras.layers import Convolution2D\n",
    "from keras.layers import MaxPooling2D\n",
    "from keras.layers import Flatten\n",
    "from keras.layers import Dense"
   ]
  },
  {
   "cell_type": "markdown",
   "id": "1dff8c07",
   "metadata": {},
   "source": [
    "## Initialising the CNN"
   ]
  },
  {
   "cell_type": "code",
   "execution_count": 2,
   "id": "e4f0b1fa",
   "metadata": {},
   "outputs": [],
   "source": [
    "classifier = Sequential()"
   ]
  },
  {
   "cell_type": "markdown",
   "id": "17306c9d",
   "metadata": {},
   "source": [
    "##  Step 1 - Convolution"
   ]
  },
  {
   "cell_type": "code",
   "execution_count": 3,
   "id": "fb8fff84",
   "metadata": {},
   "outputs": [],
   "source": [
    "classifier.add(Convolution2D(32, 3, 3, \n",
    "        input_shape = (64, 64, 3), activation = 'relu'))"
   ]
  },
  {
   "cell_type": "markdown",
   "id": "d531a8c9",
   "metadata": {},
   "source": [
    "## Step 2 - Pooling "
   ]
  },
  {
   "cell_type": "code",
   "execution_count": 4,
   "id": "5b30940d",
   "metadata": {},
   "outputs": [],
   "source": [
    "classifier.add(MaxPooling2D(pool_size = (2, 2)))"
   ]
  },
  {
   "cell_type": "markdown",
   "id": "57f2f758",
   "metadata": {},
   "source": [
    "## Adding a second convolutional layer "
   ]
  },
  {
   "cell_type": "code",
   "execution_count": 5,
   "id": "41b890dd",
   "metadata": {},
   "outputs": [],
   "source": [
    "classifier.add(Convolution2D(32, 3, 3, activation = 'relu'))\n",
    "classifier.add(MaxPooling2D(pool_size = (2, 2)))"
   ]
  },
  {
   "cell_type": "markdown",
   "id": "0ece3f29",
   "metadata": {},
   "source": [
    "## Step 3 - Flattening "
   ]
  },
  {
   "cell_type": "code",
   "execution_count": 6,
   "id": "f104629c",
   "metadata": {},
   "outputs": [],
   "source": [
    "classifier.add(Flatten())"
   ]
  },
  {
   "cell_type": "markdown",
   "id": "a287773e",
   "metadata": {},
   "source": [
    "## Step 4 - Full connection "
   ]
  },
  {
   "cell_type": "code",
   "execution_count": 7,
   "id": "355da318",
   "metadata": {},
   "outputs": [],
   "source": [
    "classifier.add(Dense(1, activation = 'relu'))\n",
    "classifier.add(Dense(1, activation = 'sigmoid'))"
   ]
  },
  {
   "cell_type": "markdown",
   "id": "51192551",
   "metadata": {},
   "source": [
    "## Compiling the CNN "
   ]
  },
  {
   "cell_type": "code",
   "execution_count": 8,
   "id": "3df65725",
   "metadata": {},
   "outputs": [],
   "source": [
    " classifier.compile(optimizer = 'adam', \n",
    "                   loss = 'binary_crossentropy',\n",
    "                   metrics = ['accuracy'])\n"
   ]
  },
  {
   "cell_type": "markdown",
   "id": "7fea53c3",
   "metadata": {},
   "source": [
    "# ####FITTING IMAGE TO CNN######"
   ]
  },
  {
   "cell_type": "code",
   "execution_count": 9,
   "id": "704c46c0",
   "metadata": {},
   "outputs": [],
   "source": [
    "from keras.preprocessing.image import ImageDataGenerator"
   ]
  },
  {
   "cell_type": "code",
   "execution_count": 10,
   "id": "f160c233",
   "metadata": {},
   "outputs": [
    {
     "name": "stdout",
     "output_type": "stream",
     "text": [
      "Found 1792 images belonging to 2 classes.\n",
      "Found 2000 images belonging to 2 classes.\n"
     ]
    },
    {
     "name": "stderr",
     "output_type": "stream",
     "text": [
      "C:\\Users\\P PAUL\\AppData\\Local\\Temp\\ipykernel_5844\\1147965264.py:19: UserWarning: `Model.fit_generator` is deprecated and will be removed in a future version. Please use `Model.fit`, which supports generators.\n",
      "  classifier.fit_generator(training_set,\n"
     ]
    },
    {
     "name": "stdout",
     "output_type": "stream",
     "text": [
      "Epoch 1/5\n",
      "56/56 [==============================] - 131s 2s/step - loss: 0.6863 - accuracy: 0.5502 - val_loss: 0.6927 - val_accuracy: 0.5000\n",
      "Epoch 2/5\n",
      "56/56 [==============================] - 119s 2s/step - loss: 0.6835 - accuracy: 0.5580 - val_loss: 0.6895 - val_accuracy: 0.5740\n",
      "Epoch 3/5\n",
      "56/56 [==============================] - 96s 2s/step - loss: 0.6783 - accuracy: 0.5714 - val_loss: 0.7127 - val_accuracy: 0.5000\n",
      "Epoch 4/5\n",
      "56/56 [==============================] - 44s 786ms/step - loss: 0.6776 - accuracy: 0.5653 - val_loss: 0.6894 - val_accuracy: 0.5015\n",
      "Epoch 5/5\n",
      "56/56 [==============================] - 102s 2s/step - loss: 0.6731 - accuracy: 0.5781 - val_loss: 0.6877 - val_accuracy: 0.5155\n",
      "{0: 'cats', 1: 'dogs'}\n"
     ]
    }
   ],
   "source": [
    "train_datagen = ImageDataGenerator(rescale = 1./255,\n",
    "                                   shear_range = 0.2,\n",
    "                                   zoom_range = 0.2,\n",
    "                                   horizontal_flip = True)\n",
    " \n",
    "test_datagen = ImageDataGenerator(rescale = 1./255)\n",
    "\n",
    "\n",
    "training_set = train_datagen.flow_from_directory('dataset/training_set',\n",
    "                                                 target_size = (64, 64),\n",
    "                                                 batch_size = 32,\n",
    "                                                 class_mode = 'binary')\n",
    " \n",
    "test_set = test_datagen.flow_from_directory('dataset/test_set',\n",
    "                                            target_size = (64, 64),\n",
    "                                            batch_size = 32,\n",
    "                                            class_mode = 'binary')\n",
    "\n",
    "classifier.fit_generator(training_set,\n",
    "                         steps_per_epoch = (1792/32),\n",
    "                         epochs = 5,\n",
    "                         validation_data = test_set,\n",
    "                         validation_steps = (2000/32))\n",
    "\n",
    "\n",
    "class_labels = {v: k for k, v in training_set.class_indices.items()}\n",
    "print(class_labels)"
   ]
  },
  {
   "cell_type": "markdown",
   "id": "e00c5138",
   "metadata": {},
   "source": [
    "# #################Predicting the Image#####################"
   ]
  },
  {
   "cell_type": "code",
   "execution_count": 48,
   "id": "b13e51bd",
   "metadata": {},
   "outputs": [],
   "source": [
    "from skimage.io import imread\n",
    "from skimage.transform import resize\n",
    "import numpy as np"
   ]
  },
  {
   "cell_type": "code",
   "execution_count": 50,
   "id": "f9ebbdf4",
   "metadata": {},
   "outputs": [
    {
     "name": "stdout",
     "output_type": "stream",
     "text": [
      "1/1 [==============================] - 0s 70ms/step\n",
      "It is a dog\n"
     ]
    }
   ],
   "source": [
    "img = imread('IMG_20220329_160637-01_11zon.jpeg') \n",
    "img = resize(img,(64,64)) \n",
    "img = np.expand_dims(img,axis=0) \n",
    "#prediction = classifier.predict_classes(img)\n",
    "prediction = (classifier.predict(img) > 0.5).astype(\"int32\")\n",
    "#print(prediction)\n",
    "if prediction[0][0]==1:\n",
    "    print(\"It is a dog\")\n",
    "elif prediction[0][0]==0:\n",
    "    print(\"It is a cat\")\n",
    "else:\n",
    "    print(\"It's other object\")"
   ]
  },
  {
   "cell_type": "markdown",
   "id": "a4790a52",
   "metadata": {},
   "source": [
    "### ..........................................................................................................................................................................Create by"
   ]
  },
  {
   "cell_type": "markdown",
   "id": "bdfbcf7e",
   "metadata": {},
   "source": [
    "                                                                                                            Bibhakar paul\n",
    "                                                                                                            Malay malakar"
   ]
  }
 ],
 "metadata": {
  "kernelspec": {
   "display_name": "Python 3 (ipykernel)",
   "language": "python",
   "name": "python3"
  },
  "language_info": {
   "codemirror_mode": {
    "name": "ipython",
    "version": 3
   },
   "file_extension": ".py",
   "mimetype": "text/x-python",
   "name": "python",
   "nbconvert_exporter": "python",
   "pygments_lexer": "ipython3",
   "version": "3.10.2"
  }
 },
 "nbformat": 4,
 "nbformat_minor": 5
}
